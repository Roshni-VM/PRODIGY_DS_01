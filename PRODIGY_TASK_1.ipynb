{
  "nbformat": 4,
  "nbformat_minor": 0,
  "metadata": {
    "colab": {
      "private_outputs": true,
      "provenance": []
    },
    "kernelspec": {
      "name": "python3",
      "display_name": "Python 3"
    },
    "language_info": {
      "name": "python"
    }
  },
  "cells": [
    {
      "cell_type": "markdown",
      "source": [],
      "metadata": {
        "id": "EFd00J0SCm-h"
      }
    },
    {
      "cell_type": "code",
      "execution_count": null,
      "metadata": {
        "id": "kh1aUmcd8L27"
      },
      "outputs": [],
      "source": [
        "import pandas as pd\n",
        "import matplotlib.pyplot as plt\n",
        "import seaborn as sns\n",
        "\n",
        "# Load the dataset (skip metadata)\n",
        "df = pd.read_csv(\"/content/API_SP.POP.TOTL_DS2_en_csv_v2_2590.csv\", skiprows=4)\n"
      ]
    },
    {
      "cell_type": "code",
      "source": [
        "df.head()"
      ],
      "metadata": {
        "id": "EIIHPSDp95nz"
      },
      "execution_count": null,
      "outputs": []
    },
    {
      "cell_type": "code",
      "source": [
        "#data description\n",
        "df.describe()\n",
        "df.info()\n",
        "print(\"null values\")\n",
        "df.isnull().sum()\n",
        "\n"
      ],
      "metadata": {
        "id": "xRME3XIy9-Nh"
      },
      "execution_count": null,
      "outputs": []
    },
    {
      "cell_type": "code",
      "source": [
        "print(\"duplicate values count\")\n",
        "df.duplicated().sum()"
      ],
      "metadata": {
        "id": "iXFgK03U-4a9"
      },
      "execution_count": null,
      "outputs": []
    },
    {
      "cell_type": "code",
      "source": [
        "# Filter for year 2020\n",
        "df_2020 = df[['Country Name', '2020']].dropna()\n",
        "df_2020['2020'] = pd.to_numeric(df_2020['2020'], errors='coerce')\n",
        "df_2020 = df_2020.dropna()\n",
        "\n",
        "# Sort and take top 10 countries by population\n",
        "top10 = df_2020.sort_values(by='2020', ascending=False).head(10)"
      ],
      "metadata": {
        "id": "81G5a65w92XH"
      },
      "execution_count": null,
      "outputs": []
    },
    {
      "cell_type": "code",
      "source": [
        "# 1. Bar Chart: Top 10 Most Populous Countries (2020)\n",
        "plt.figure(figsize=(12, 6))\n",
        "sns.barplot(x='2020', y='Country Name', data=top10, palette='viridis')\n",
        "plt.title('Top 10 Most Populous Countries in 2020')\n",
        "plt.xlabel('Population')\n",
        "plt.ylabel('Country')\n",
        "plt.tight_layout()\n",
        "plt.show()"
      ],
      "metadata": {
        "id": "sWJv0N3O9vt4"
      },
      "execution_count": null,
      "outputs": []
    },
    {
      "cell_type": "code",
      "source": [
        "#2. Bar Chart: Bottom 10 Least Populous Countries (2020)\n",
        "# Sort and take bottom 10 countries by population\n",
        "bottom10 = df_2020.sort_values(by='2020', ascending=True).head(10)\n",
        "\n",
        "# Plot\n",
        "plt.figure(figsize=(12, 6))\n",
        "sns.barplot(x='2020', y='Country Name', data=bottom10, palette='coolwarm')\n",
        "plt.title('Bottom 10 Least Populous Countries in 2020')\n",
        "plt.xlabel('Population')\n",
        "plt.ylabel('Country')\n",
        "plt.tight_layout()\n",
        "plt.show()\n"
      ],
      "metadata": {
        "id": "reZwJr9L_DQm"
      },
      "execution_count": null,
      "outputs": []
    },
    {
      "cell_type": "code",
      "source": [
        "# 3. Bar Plot: First 30 Countries (\n",
        "top30 = df_2020.sort_values(by='Country Name').head(30)\n",
        "\n",
        "plt.figure(figsize=(14, 8))\n",
        "sns.barplot(x='2020', y='Country Name', data=top30, palette='Set2')\n",
        "plt.title('Population of First 30 Countries Alphabetically (2020)')\n",
        "plt.xlabel('Population')\n",
        "plt.ylabel('Country')\n",
        "plt.tight_layout()\n",
        "plt.show()"
      ],
      "metadata": {
        "id": "rGcQydun_Yee"
      },
      "execution_count": null,
      "outputs": []
    },
    {
      "cell_type": "code",
      "source": [
        "# Population of india\n",
        "#Choose a country (example: 'India')\n",
        "country_name = 'India'\n",
        "\n",
        "# Extract population values from 1960 to 2020\n",
        "year_columns = [str(y) for y in range(1960, 2021)]\n",
        "country_data = df[df['Country Name'] == country_name][year_columns].T\n",
        "country_data.columns = ['Population']\n",
        "country_data.index.name = 'Year'\n",
        "country_data.reset_index(inplace=True)\n",
        "country_data['Year'] = country_data['Year'].astype(int)\n",
        "\n",
        "# Plot line chart (or bar chart)\n",
        "plt.figure(figsize=(12, 6))\n",
        "sns.lineplot(data=country_data, x='Year', y='Population', marker='o', color='green')\n",
        "plt.title(f'Population of {country_name} (1960–2020)')\n",
        "plt.xlabel('Year')\n",
        "plt.ylabel('Population')\n",
        "plt.grid(True)\n",
        "plt.tight_layout()\n",
        "plt.show()\n"
      ],
      "metadata": {
        "id": "KoHQjVlWAcp_"
      },
      "execution_count": null,
      "outputs": []
    },
    {
      "cell_type": "code",
      "source": [],
      "metadata": {
        "id": "bQyeD4aGBAZn"
      },
      "execution_count": null,
      "outputs": []
    }
  ]
}